{
 "cells": [
  {
   "cell_type": "code",
   "execution_count": null,
   "metadata": {},
   "outputs": [],
   "source": [
    "import pandas as pd\n",
    "import tensorflow as tf\n",
    "from tensorflow import keras\n",
    "\n",
    "base_dir_1 = \"/Data/Train\"\n",
    "\n",
    "# Tăng cường dữ liệu.\n",
    "data_augmentation = keras.Sequential([\n",
    "    keras.layers.experimental.preprocessing.RandomFlip(\"horizontal\"),\n",
    "    keras.layers.experimental.preprocessing.RandomRotation(0.1),\n",
    "])\n",
    "\n",
    "# chia dữ liệu cho train\n",
    "train_ds = keras.utils.image_dataset_from_directory(\n",
    "    base_dir_1,\n",
    "    image_size=(200,200),\n",
    "    batch_size=128,\n",
    "    seed=100,\n",
    "    subset='training',\n",
    "    validation_split=0.2\n",
    ")\n",
    "\n",
    "# Lưu tên lớp trước trước khi chuyển đổi map\n",
    "class_names = train_ds.class_names\n",
    "train_ds = train_ds.map(lambda x, y: (data_augmentation(x, training=True), y))\n",
    "\n",
    "# chuẩn bị dữ liệu cho tập kiểm định chéo\n",
    "val_ds = keras.utils.image_dataset_from_directory(\n",
    "    base_dir_1,  # Sử dụng thư mục riêng cho tập kiểm định\n",
    "    seed=1,\n",
    "    image_size=(200,200),\n",
    "    batch_size=128,\n",
    "    subset='validation',\n",
    "    validation_split=0.06\n",
    ")\n",
    "\n",
    "# chuẩn bị dữ liệu tập test model\n",
    "test_ds = keras.utils.image_dataset_from_directory(\n",
    "    base_dir_1,\n",
    "    seed=2,\n",
    "    image_size=(200,200),\n",
    "    batch_size=128,\n",
    "    subset='validation',\n",
    "    validation_split=0.14\n",
    ")\n",
    "\n",
    "#số lớp trong dữ liệu.\n",
    "num_classes = len(class_names)\n",
    "\n",
    "# Xây dựng mô hình\n",
    "model = keras.models.Sequential([\n",
    "    keras.layers.Rescaling(1./255, input_shape=(200,200,3)),\n",
    "    keras.layers.Conv2D(filters=16, kernel_size=(3,3),padding='valid',activation='relu'),\n",
    "    keras.layers.MaxPooling2D(pool_size=(3,3)),\n",
    "    keras.layers.Conv2D(filters=32, kernel_size=(4,4),padding='same',activation='relu'),\n",
    "    keras.layers.MaxPooling2D(pool_size=(4,4)),\n",
    "    keras.layers.Conv2D(filters=32, kernel_size=(5,5),padding='same',activation='relu'),\n",
    "    keras.layers.MaxPooling2D(pool_size=(4,4)),\n",
    "    keras.layers.Conv2D(filters=64, kernel_size=(5,5),padding='same',activation='relu'),\n",
    "    keras.layers.MaxPooling2D(pool_size=(3,3)),\n",
    "    keras.layers.Flatten(),\n",
    "    keras.layers.Dropout(rate=0.4),\n",
    "    keras.layers.BatchNormalization(),\n",
    "    keras.layers.Dense(units=64,activation='relu'),\n",
    "    keras.layers.Dense(units=256,activation='relu'),\n",
    "    keras.layers.Dense(units=num_classes, activation='softmax')\n",
    "])\n",
    "\n",
    "model.compile(optimizer='Adam',loss='sparse_categorical_crossentropy',metrics=['accuracy'])\n",
    "model.summary()\n",
    "\n",
    "model.fit(train_ds,epochs=55,validation_data=val_ds)\n",
    "print(\"Training finished\")\n"
   ]
  },
  {
   "cell_type": "markdown",
   "metadata": {},
   "source": [
    "**Đánh giá tôngr thể mô hình sau khi train qua tập dữ liệu kiểm tra**"
   ]
  },
  {
   "cell_type": "code",
   "execution_count": null,
   "metadata": {},
   "outputs": [],
   "source": [
    "#Đánh giá mô hình trên tập dữ liệu kiểm tra\n",
    "test_loss, test_acc = model.evaluate(test_ds)\n",
    "print(f\"Test accuracy: {test_acc}\")"
   ]
  },
  {
   "cell_type": "markdown",
   "metadata": {},
   "source": [
    "**Lưu model sau khi khi huấn luyện**"
   ]
  },
  {
   "cell_type": "code",
   "execution_count": null,
   "metadata": {},
   "outputs": [],
   "source": [
    "# Lưu model\n",
    "model.save(\"/Train/model-flower14\")"
   ]
  }
 ],
 "metadata": {
  "language_info": {
   "name": "python"
  }
 },
 "nbformat": 4,
 "nbformat_minor": 2
}
